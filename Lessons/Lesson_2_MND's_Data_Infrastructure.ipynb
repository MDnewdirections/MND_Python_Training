{
  "nbformat": 4,
  "nbformat_minor": 0,
  "metadata": {
    "colab": {
      "name": "Lesson 2: MND's Data Infrastructure",
      "provenance": [],
      "authorship_tag": "ABX9TyOcsOVZF/yndD0OQeWcB1K3",
      "include_colab_link": true
    },
    "kernelspec": {
      "name": "python3",
      "display_name": "Python 3"
    },
    "language_info": {
      "name": "python"
    }
  },
  "cells": [
    {
      "cell_type": "markdown",
      "metadata": {
        "id": "view-in-github",
        "colab_type": "text"
      },
      "source": [
        "<a href=\"https://colab.research.google.com/github/MDnewdirections/MND_Python_Training/blob/main/Lesson_2_MND's_Data_Infrastructure.ipynb\" target=\"_parent\"><img src=\"https://colab.research.google.com/assets/colab-badge.svg\" alt=\"Open In Colab\"/></a>"
      ]
    },
    {
      "cell_type": "markdown",
      "source": [
        "# The Four Components of MND's Data Infrastructure"
      ],
      "metadata": {
        "id": "06R_RpuABQyV"
      }
    },
    {
      "cell_type": "markdown",
      "source": [
        "## 1. Really Simple Systems\n",
        "\n"
      ],
      "metadata": {
        "id": "ib71yGlFC9Zo"
      }
    },
    {
      "cell_type": "markdown",
      "source": [
        "Really Simple Systems (RSS) is CRM software that functions as the primary data entry tool in MND’s effort to compile descriptive analytics regarding program outcomes and client demographics. In many ways it has the capacity to be used for more effective data collection and analysis, but it falls short as a holistic organizational database and will constrain MND’s future organizational growth.\n",
        "In terms of accessibility, RSS is highly accessible to the CRM Administrator (Data Manager) but is inaccessible to all but the 9 MND employees that are registered for accounts. RSS offers some unintuitive analysis tools, and limited customizability for user experience and formatting. However, it provides MND with a secure cloud database for the sharing of client PII and has won over most of the staff with its long tenure and consistency. The issues of inaccessibility are corrected through the Data Manager’s use of the platform’s API (Application Programming Interface), which is used to pull data from the secure cloud, develop reports, and store relevant information in large .csv and .xlsx files. While presently dormant, accessibility issues with the platform will be exacerbated as MND continues to grow."
      ],
      "metadata": {
        "id": "XPjrykHi3mNh"
      }
    },
    {
      "cell_type": "markdown",
      "source": [
        "**Customer Relationship Management (CRM) -** software for managing all of a company's relationships and interactions with customers and potential customers. It is worth noting that while most CRM services provide holistic organizational tools from fundraising and financial management, RSS only provides program managment services.\n",
        "\n"
      ],
      "metadata": {
        "id": "H2BZfcLFGbpp"
      }
    },
    {
      "cell_type": "markdown",
      "source": [
        "**Application Programming Interface (API) -** a set of definitions and protocols for building and integrating application software. For example, Really Simple Systems is an application software. The primary function of the application is to allow users to easily record and store information in an organized fashion within a secure cloud database. The developers of Really Simple Systems designed an API for their software, providing programmers with access to the back end of their software. This back end access allows programmers to analyze the structure of the software's database and make requests to GET, POST, DELETE, and PATCH data hosted on the database."
      ],
      "metadata": {
        "id": "VrgrogGADuIY"
      }
    },
    {
      "cell_type": "markdown",
      "source": [
        "**Back End -** refers to parts of a computer application or a program's code that allow it to operate and that cannot be accessed by a user. The back end is also called the data access layer of software or hardware and includes any functionality that needs to be accessed and navigated to by digital means."
      ],
      "metadata": {
        "id": "0a717oJjFvfr"
      }
    },
    {
      "cell_type": "markdown",
      "source": [
        "**Note:** RSS is ***not*** and official abbreviation for Really Simple Systems. The abbreviation RSS is more commonly associated **Really Simple Syndication**, a widely utilized web feed service that now focuses on storage and distribution of large audio files such as podcasts. In short, referring to Really Simple Systems as RSS to someone outside of MND will likely cause some confusion."
      ],
      "metadata": {
        "id": "Ai862RkIIDRr"
      }
    },
    {
      "cell_type": "markdown",
      "source": [
        "### Managing Really Simple Systems\n",
        "The Data Manager will spend more time monitoring the entry of data on RSS than on any other task. It is important to understand the 5 strctural components of RSS data storage. Before discussing these compenents it is important to understand the difference between **Dynamic** and **Static** data points."
      ],
      "metadata": {
        "id": "XU8kQbbDJvl1"
      }
    },
    {
      "cell_type": "markdown",
      "source": [
        "**Dynamic Data Points -** are subject to change over time. For instance, a client’s employment status may change any number of times throughout their experience with MND. This ability to change, and potential volatility, makes the client’s employment status a dynamic data point. It is important that dynamic data points be recorded with corresponding dates or timestamps to track the chronological order of the data point’s changes and identify the most recent developments."
      ],
      "metadata": {
        "id": "_fK0LNLCLhTN"
      }
    },
    {
      "cell_type": "markdown",
      "source": [
        "**Static Data Points -** are not subject to change, or cataloging their changes is no important. For example, a client’s birthday is not subject to change and can be considered static. Most information collected during intake is static. While lots of information collected during the intake process may be subject to change, intake data represents the details of our client at time of intake, an important specification to leave untampered to measure their development."
      ],
      "metadata": {
        "id": "s9Xpma2EMQzB"
      }
    },
    {
      "cell_type": "markdown",
      "source": [
        "#### 1. Accounts"
      ],
      "metadata": {
        "id": "AkrwIo4MJ7Fj"
      }
    },
    {
      "cell_type": "markdown",
      "source": [
        "The Accounts Section of a client’s RSS profile is largely made up of static data points collected during the intake process. Outside of demographic data, the accounts section features several items that are subject to change and can influence reporting outcomes:\n",
        "1.\t**Original Training Program** – As the name suggests, this data point identifies the training program that the client is registered for at time of intake. If this field is populated with a training program name and the client has yet to satisfy enrollment, the client will appear in reports as *Pending Enrollment*. If the client fails to satisfy enrollment requirements, the training program should be removed from this field and the client will be identified as withdrawn in reports.\n",
        "2.\t**Grant Fund** – The Grant Fund field is subject to change because many grants require a submission and approval process. Job coaches can indicate which grant a client will be a part of during the intake process, but beyond that point it is the Data Manager’s responsibility to ensure that each client has the appropriate Grant Fund designation.\n",
        "3.\t**Contact Information** – Address, phone number, and email are all items that are subject to change that should be updated in the accounts section when necessary. It should be safe for the Data Manager to assume that a client’s contact information reflects the client’s most up to date status.\n"
      ],
      "metadata": {
        "id": "omtyVNSQK4-o"
      }
    },
    {
      "cell_type": "markdown",
      "source": [
        "#### 2. Contacts"
      ],
      "metadata": {
        "id": "vtKwBWXOOf39"
      }
    },
    {
      "cell_type": "markdown",
      "source": [
        "The Contacts Section can be utilized by coaches to keep track of contact information for the client, their family, and their place of employment. This section is rarely utilized and does not serve much purpose to the Data Manager presently. However, with some planning, and an organized effort to incorporate this feature into regular use, MND could utilize this feature to store a wide variety of client contact information, clearing up a large amount of space to begin tracking a wider scope of client demographic information collected during the intake process."
      ],
      "metadata": {
        "id": "4o5fsydUOqAV"
      }
    },
    {
      "cell_type": "markdown",
      "source": [
        "#### 3. Tasks"
      ],
      "metadata": {
        "id": "E5rCoZl6O4rA"
      }
    },
    {
      "cell_type": "markdown",
      "source": [
        "The Tasks Section is an extremely important area for the verification of outcomes. The Task form is one of two forms that RSS provides in our subscription. Task Forms and Activity Forms are nearly identical in format and are designed to complement each other. Task forms feature three fields that Activity forms do not:\n",
        "-\tAll day\n",
        "-\tPriority\n",
        "-\tTask Status\n",
        "\n",
        "The All Day and Priority fields aren’t relevant to the coaches or the Data Manager and can be left alone. The Task Status field is used by the Data Manager to “Complete” each recorded Task. Job coaches use the Task form to record employment, retention, and inactivity in the same way that they use activity forms to record case notes. Coaches utilize the Task Type drop down bar to select one of the following:\n",
        "-\tClient Became Employed\n",
        "-\tRetention\n",
        "-\tInactive\n",
        "\n",
        "When Client Became Employed is selected, coaches can write a brief Description, enter the Start Date, identify if the employment in question is the client’s Initial or Secondary Placement, Full-Time or Part-Time, Temporary, Benefits, MND Lead, Industry Related, and Job Hopping with Yes or No toggles in the Placement/Retention tab. Coaches are also responsible for entering the client’s Employer, Position, Wage, and Hours. \n",
        "\n",
        "For Retention Tasks, coaches can provide a brief description and utilize the Placement/Retention tab to select Yes or No to indicate Job Retained, Job Not Retained, and/or Retention and Advancement depending on the client’s current retention status.\n",
        "\n",
        "For Inactive Tasks, the job coach doesn’t need to add anything else except for the Task Type.\n",
        "When the coach has finished filling out all the relevant information, they can save the task using the Save button in the top right corner. When a Task is saved, the Task can be seen on the client’s profile or by selecting Tasks from the RSS Dashboard toolbar on the left side of the screen. Daily, the Data Manager reviews all recorded Tasks. The Tasks are reviewed for proper formatting, validity, and uniqueness. Formatting issues include ensuring no text is entered in numerical fields (Wage and Hours), employer address is included in description instead of Employer field, removing contradictory selections from the Placement/Retention form. Validity is reviewed by ensuring that information recorded in the task is consistent with previous employment/retention tasks on the client’s profile. Uniqueness is reviewed by ensuring that the task is not a duplicate record by checking previously recorded activities on the client’s profile.\n",
        "\n",
        "When the Data Manager has ensured accurate information and formatting in a Task, they will mark the Task Status as Complete and save the Task. When a Task is marked as Complete and saved, RSS processes the Task and reformats the Task as an Activity. The Task will no longer be viewable under Tasks, but an identical Activity will be created on the client’s profile.\n"
      ],
      "metadata": {
        "id": "4LWpbMblO9Fb"
      }
    },
    {
      "cell_type": "markdown",
      "source": [
        "#### 4. Activities"
      ],
      "metadata": {
        "id": "DdZYYKcLTqQe"
      }
    },
    {
      "cell_type": "markdown",
      "source": [
        "The Activities Section contains most of the client information recorded in any faction of MND’s data infrastructure. Activities include a myriad of different types of records of which there are 10 types that are gathered for reporting purposes:\n",
        "1.\tClient Became Employed – Processed via Tasks. Directly affects the reporting numbers for job placements and all related data points. Inaccurately formatted data can result in errors that prevent our reporting functions from running or result in inaccurate data.\n",
        "2.\tRetention -Processed via Tasks. Directly affects retention numbers for employed clients. Inaccurately formatted data can result in inaccurate retention reporting.\n",
        "3.\tCertification – Recorded by Data Manager only. Directly affects our certification numbers.\n",
        "4.\tTraining Status – Recorded by Data Manager only. Directly affects our program completion numbers.\n",
        "5.\tCohort – Recorded by Data Manager only. Directly affects training enrollment numbers and rate of program completion numbers.\n",
        "6.\tReturning Client – Recorded by Data Manager only. Directly affects our program enrollment, program completion, and exit call numbers.\n",
        "7.\tInactive - Processed via Tasks. Directly affects the client's Active Status, may result in the client's absence from retention reminders and other internal reports, or redundant efforts to contact the said client.\n",
        "8.\tSNAP FEE Confirmed – Recorder by Data Manager only. Directly affects SNAP grant reporting.\n",
        "9.\tSNAP ID – Recorded by Data Manager only. Directly affects SNAP grant reporting.\n",
        "10.\tEARN ID – Recorded by Data Manager only. Directly affects EARN grant reporting.\n",
        "It is essential to be familiar with what Activity types directly affect our reporting. The use of these Activity types should be reserved for TASKS ONLY, unless recorded directly by the Data Manager. All other types are fair game to be recorded as Activities. Most activities recorded do not affect reporting outcomes but are utilized by coaches for personal use and reference. Presently, there are more than 77,000 Activities recorded in RSS distributed among over 1,600 accounts, approximately 46.8 activities per account. Monitoring the oversight of all activities recorded in RSS would be an unnecessarily time-consuming task, meaning that the Data Manager must have a deep understanding of how to monitor the trends of activity records and develop methods of identifying dirty data as it is recorded.\n"
      ],
      "metadata": {
        "id": "TFx_gtvWTvf8"
      }
    },
    {
      "cell_type": "markdown",
      "source": [
        "#### 5. Documents"
      ],
      "metadata": {
        "id": "7t9ZGN44T9DT"
      }
    },
    {
      "cell_type": "markdown",
      "source": [
        "The Documents Section is the last section of a client’s RSS profile. Coaches can upload documents relevant to their client’s experience at MND to RSS. Because RSS charges for excess document storage, it is important to keep an eye on how much space is being taken up. The total amount of document storage used can be monitored in Settings>Subscription>Manage Subscription. Storage overages can be managed by running the intake and document download program that will be covered later in the functional overview. It is important to note that documents and records such as accounts and activities that are deleted manually from RSS can be recovered in RSS’s Recycle Bin in the Data Management section. Documents and records that are deleted through use of the API are not recoverable. Do not delete documents via the API unless you have access to a back up copy."
      ],
      "metadata": {
        "id": "FjiKIcqOUCW5"
      }
    },
    {
      "cell_type": "code",
      "source": [
        ""
      ],
      "metadata": {
        "id": "fappsMyyO8NA"
      },
      "execution_count": null,
      "outputs": []
    },
    {
      "cell_type": "markdown",
      "source": [
        "### Really Simple Systems Administration"
      ],
      "metadata": {
        "id": "Ti3SOhFuUYI3"
      }
    },
    {
      "cell_type": "markdown",
      "source": [
        "The Data Manager position is responsible for much more than just the oversight of the platform’s usage and data entry by job coaches. The Data Manager is responsible for:\n",
        "-\tensuring that MND is not billed for account and document overages \n",
        "-\tadministration of active MND users\n",
        "-\taccount creation for new staff members\n",
        "-\tupdating security passwords and API keys on a quarterly basis \n",
        "-\tproviding MND’s admin team with monthly RSS invoices\n",
        "-\tcreating/editing customizable fields, forms, and dropdown lists. \n",
        "\n",
        "There is plenty of room to expand capabilities within RSS, but employee training has proven difficult. Perhaps more importantly, it will be the Data Manager’s responsibility to develop the organizational means to reduce dependency on RSS for MND’s data entry needs as MND grows beyond RSS’s capacity.\n"
      ],
      "metadata": {
        "id": "DJtmTdO5U2-_"
      }
    },
    {
      "cell_type": "code",
      "source": [
        ""
      ],
      "metadata": {
        "id": "mckBm1KsU2fe"
      },
      "execution_count": null,
      "outputs": []
    },
    {
      "cell_type": "markdown",
      "source": [
        "### Exercises"
      ],
      "metadata": {
        "id": "8RLm6c2mVI8s"
      }
    },
    {
      "cell_type": "markdown",
      "source": [
        "Using the admin account explore the following areas Really Simple Systems:\n",
        "\n",
        "\n",
        "1.   Accounts - Review the various data points collected and stored in a client's account.\n",
        "2.   Tasks - Are there any Tasks pending approval by the Data Manager? If not, navigate the client account named \"New Clients\" and create a new Task.\n",
        "3.   Activities - At a glance, take a look at how many activities were recorded in the last week. Can you tell who recorded each activity? Can you tell which activities were initially recorded as Tasks?\n",
        "\n",
        "Next, navigate to Settings. In the settings section explore the following tabs:\n",
        "\n",
        "\n",
        "1.    Subcription - Review MND's subscription details and indentify the location of our monthly invoices.\n",
        "2.    System Settings - Review MND's Custom Fields. Briefly explore the formatting of the the exiting custom fields in Accounts, Acitivities, and Tasks. Notice how Activities and Tasks have been customized to match one another.\n",
        "3.    User Settings - Explore the User Managment section, toggle the \"Live Only\" checkbox to see all of MND's current and previous RSS user accounts.\n",
        "4.    Data Management - Explore the options under \"Export Data\", this feature can be utilized to download csv files containing all records hosted on RSS. Explore the \"Recycle Bin\", this is where records that have been manually deleted can be restored.\n",
        "5.    Integrations - Explore \"API V4\", this is where details regarding RSS's most up to date API version can be found. In this section API Authorization can be created for MND users, alerts about API usage can be automated, and a log of monthly API use can be monitored. Explore the \"API Success and Failure Logs\" section."
      ],
      "metadata": {
        "id": "1MgBpD3bVg7r"
      }
    },
    {
      "cell_type": "markdown",
      "source": [
        "### Additional Resources"
      ],
      "metadata": {
        "id": "A55Z7dhIfN3B"
      }
    },
    {
      "cell_type": "markdown",
      "source": [
        "Really Simple Systems provides some basic documentation for the usage of their API. As we will learn during coding lessons, reviewing documentation can make a huge difference in how we approach our programming. The developers of RSS's API used php, a scripting language common in web development, when building their API. We'll be using Python, which means that the code examples provided in the documentation require some translation. Still, this is a very important document to reference when learning about how RSS structures our data.\n",
        "\n",
        "https://support.reallysimplesystems.com/api-v4/"
      ],
      "metadata": {
        "id": "j82BpmuHfUJp"
      }
    },
    {
      "cell_type": "code",
      "source": [
        ""
      ],
      "metadata": {
        "id": "PFnixZchVQpd"
      },
      "execution_count": null,
      "outputs": []
    },
    {
      "cell_type": "markdown",
      "source": [
        "## 2. Google Drive"
      ],
      "metadata": {
        "id": "MjDEgRXqycnE"
      }
    },
    {
      "cell_type": "markdown",
      "source": [
        "It is the Data Manager’s responsibility to ensure that data stored in the Google Drive is made accessible to all necessary team members. As information is uploaded to Google Drive the Data Manager will need to use the Share feature of each document to ensure that all team members are given access to information that they need. Additionally, the Data Manager will need to have the tools necessary to access Google’s API tools to automate data collection from spreadsheets hosted on Google Drive. While Google Drive is used sparingly for collecting client outcomes and reporting information, there are a few essential spreadsheets in Google Drive that need to be managed involving:\n",
        "1.\tInfo Session Registration\n",
        "2.\tInfo Session Attendance\n",
        "3.\tTraining Attendance\n",
        "4.  Automated Reports Subscription"
      ],
      "metadata": {
        "id": "XsbuhRT0ywyd"
      }
    },
    {
      "cell_type": "markdown",
      "source": [
        "### 1. Info Session Registration\n",
        "Info Session Registration is recorded in a Google Sheet titled [“Info Session Sign-up FY21/22” under the tab titled “Orientation Tracker.](https://docs.google.com/spreadsheets/d/1ooiRYTu9Jd2BgheprId8IOI1wZ88IqlGrGcav0WlLKY/edit#gid=767384575)” This spreadsheet is automatically populated by potential clients interacting with the registration Google Form that is hosted on MND’s website. The maintenance of the spreadsheet has been historically overseen by Dwayne, but lately Barbara and Emily have been doing upkeep and engaging with the spreadsheet. It is not uncommon for a team member to make changes to the spreadsheet such as changing the name of a column. Unexpected changes may cause errors to be thrown by our reporting program. It is important to check up on this spreadsheet regularly and verify that no problematic changes have been made. Additionally, it is important to keep an eye on the document to ensure values are properly formatted. For instance, if a value that is not in DateTime format is entered in a cell in a DateTime column, errors will occur."
      ],
      "metadata": {
        "id": "JUNDBm9kzPZi"
      }
    },
    {
      "cell_type": "markdown",
      "source": [
        "**DateTime Format -** DateTime format is the structured format applied to a string of characters to communicate the value of a date and/or time. \n",
        "\n",
        "**Examples:**\n",
        "\n",
        "    yyyy-M-d — Example: 2013-6-23\n",
        "    M/d/yyyy — Example: 6/23/2013\n",
        "    d/M/yyyy — Example: 23/6/2013\n",
        "    dd.MM.yyyy — Example: 23.06.2013\n",
        "    dd/MM/yyyy — Example: 23/06/2013\n",
        "    yyyy/M/d — Example: 2013/6/23\n",
        "    yyyy-MM-dd — Example: 2013-06-23\n",
        "    yyyyMMddTHH:mmzzz — Example: 20130623T13:22-0500\n",
        "\n",
        "\n",
        "As we will discuss at length during our Python tutorials, the format of entered data is extremely important. Using Python, we can streamline the process of fixing bad formatting in our databases, but it is important to learn the value of proper formatting during data entry to prevent unexpected errors."
      ],
      "metadata": {
        "id": "vvXOIRi821pE"
      }
    },
    {
      "cell_type": "markdown",
      "source": [
        "### 2. Info Session Attendance"
      ],
      "metadata": {
        "id": "wObwqX7J4xIM"
      }
    },
    {
      "cell_type": "markdown",
      "source": [
        "Info Session Attendance is monitored in a Google Sheet titled [“Info Session Attendance Outcome Tracker.”](https://docs.google.com/spreadsheets/d/1yp09eMrb3wfB6HslJ0yPriuKwosNjvbZlvyQB-tAHkw/edit#gid=0) This spreadsheet is maintained by Emily and Barbara, but it is contributed to by all present job coaches during info sessions. Like the Info Session registration sheet, it is important to keep an eye out for changes made to column names and date formatting in this spreadsheet."
      ],
      "metadata": {
        "id": "SKtye2Dn45QI"
      }
    },
    {
      "cell_type": "markdown",
      "source": [
        "**Note:**\n",
        "\n",
        "Google Sheets, just like Excel, allows users to write formulas to populate cells with calculated values. Formulas serve as a great means of eliminating redundant work. For instance, let's take a look a the formula populating the \"Email\" column (H) in the Info Session Attendance sheet:\n"
      ],
      "metadata": {
        "id": "8iilJdde5fST"
      }
    },
    {
      "cell_type": "markdown",
      "source": [
        "\n",
        "\n",
        "```\n",
        "=iferror(index(\n",
        "  importrange(\n",
        "    \"https://docs.google.com/spreadsheets/d/1ooiRYTu9Jd2BgheprId8IOI1wZ88IqlGrGcav0WlLKY/edit#gid=767384575\", \n",
        "    \"Orientation Tracker!A:Z\"),\n",
        "  match(B159,importrange(\n",
        "    \"https://docs.google.com/spreadsheets/d/1ooiRYTu9Jd2BgheprId8IOI1wZ88IqlGrGcav0WlLKY/edit#gid=767384575\",\n",
        "    \"Orientation Tracker!B:B\"),\n",
        "  0),4),\"\")\n",
        "```\n",
        "\n"
      ],
      "metadata": {
        "id": "d-rCTJe3GSod"
      }
    },
    {
      "cell_type": "markdown",
      "source": [
        "At a glance, this formula seems a little ovewhelming, but cutting through the fat it functions the same as a standared [index-match function.](https://exceljet.net/index-and-match)\n",
        "\n",
        "We will learn more about index-match and a wide variety of formulas in a later lesson. For now, I will break down the functions used in the formula and provide documentation for you to learn about them each.\n",
        "\n",
        "The formula is made up of 4 different functions:\n",
        "- [iferror() ](https://exceljet.net/excel-functions/excel-iferror-function)\n",
        "- [index()](https://exceljet.net/excel-functions/excel-index-function)\n",
        "- [importrange()](https://support.google.com/docs/answer/3093340?hl=en)\n",
        "- [match()](https://exceljet.net/excel-functions/excel-match-function)"
      ],
      "metadata": {
        "id": "bUOOiqHfGYYt"
      }
    },
    {
      "cell_type": "markdown",
      "source": [
        "### 3. Training Attendance"
      ],
      "metadata": {
        "id": "JtxZhNuqVHzP"
      }
    },
    {
      "cell_type": "markdown",
      "source": [
        "Training Attendance is monitored in a Google Sheet titled [“Training Attendance FY22.”](https://docs.google.com/spreadsheets/d/1RKjwFXC4xvrSmEM3w5bwkHn4JphWHmF5nbwFMA2gH9I/edit#gid=0) With the approach of each new training cohort, the rows containing the names of clients and the columns featuring attendance dates of the previous cohorts are to be hidden, allowing for a large, aggregated attendance sheet that maintains focus on the current or most recent cohort. The names of all clients pending enrollment will be added to the name column along with their RSS Account ID, Coach Initials, Intake Date, and Training Program. New columns indicating the applicable dates of training attendance are to be added as well. \n",
        "\n",
        ":As training begins Dwayne, or whoever is present at the front desk, records the arrival time of each client in the corresponding row and column. A tally of total attendance is calculated, and once a client attends a minimum of three classes, they are considered to have satisfied enrollment. At this point, the Data Manager records a “Cohort” Activity Form in RSS for applicable clients, specifying the Cohort start date and training program. The Training Attendance sheet features a second tab titled “Violations” where Dwayne records tardiness and dress code violations. \n",
        "\n",
        "It is important to monitor the contributions of Dwayne and job coaches to this spreadsheet to ensure that attendance is accurately calculated (total attendance is calculated by the number of non-blank cells in a row).\n"
      ],
      "metadata": {
        "id": "Yj0aZMDZVT5_"
      }
    },
    {
      "cell_type": "markdown",
      "source": [
        "**Note:**\n",
        "\n",
        "For a more basic introduction to the use of functions and formulas within Excel files and Google Sheets, take a look at the \"Total Attendance\" column (BE) in the Training Attendance Google Sheet. All of the cells in that column are populated with a formula like this:\n",
        "\n",
        "\n",
        "```\n",
        "=countif(AO54:BD54,\"<>\")\n",
        "```\n",
        "\n",
        "This is a common and simple formula that you will encounter often in MND's spreadsheets. The [countif()](https://exceljet.net/excel-functions/excel-countif-function) function counts the number of times a given condition exits in a range of cells.\n",
        "\n",
        "The function takes two parameters:\n",
        "1. A range of cells.\n",
        "\n",
        "In our example above the range of cells is AO54:BD54. This is an inclusive range that begins at column AO row 54 and ends at column BD row 54. This range covers 16 columns and just 1 row, our range extends horizontally across our spreadsheet.\n",
        "\n",
        "2. A condition to search for within the range.\n",
        "\n",
        "In our example, the function is searching for the condition: \"<>\". The characters \"<>\" mean \"not blank\". So, our function is looking for cells in the provided range that are not blank.\n",
        "\n",
        "When our function operates it will count each cell in the provided range that contains a value. As attendance is take throughout the course of our training program the column will keep an updated tally of the number of classes each student has been in attendance for.\n"
      ],
      "metadata": {
        "id": "o_G-u6Dwpijh"
      }
    },
    {
      "cell_type": "code",
      "source": [
        ""
      ],
      "metadata": {
        "id": "-1245gMS43kJ"
      },
      "execution_count": null,
      "outputs": []
    },
    {
      "cell_type": "markdown",
      "source": [
        "### 4. Automated Reports Subscription"
      ],
      "metadata": {
        "id": "nvbsjOfutsxd"
      }
    },
    {
      "cell_type": "markdown",
      "source": [
        "The [Automated Reports Subscription](https://docs.google.com/spreadsheets/d/1ZgPSQdiXBglvqylHgY40eBdO6aP8BWmVRwU3JOWB9U4/edit#gid=0) sheet allows MND team members to subscribe to a daily or weekly data report. We will talk more about the contents of the automated reports and how we collect the emails contained in the spreadsheet when we disect our Python program. "
      ],
      "metadata": {
        "id": "BBVOI8LWt1jy"
      }
    },
    {
      "cell_type": "code",
      "source": [
        ""
      ],
      "metadata": {
        "id": "NMiipCustzgi"
      },
      "execution_count": null,
      "outputs": []
    },
    {
      "cell_type": "markdown",
      "source": [
        "### Accessing Google API"
      ],
      "metadata": {
        "id": "vY0BhddKvLzQ"
      }
    },
    {
      "cell_type": "markdown",
      "source": [
        "Google maintains its own API which we will use to automate the collection of data stored in these spreadsheets. Google has a much more advanced API, and there a number of widely documented Python tools that have been developed to make the API access simple.\n",
        "\n",
        "However, before we can establish an interface with Google API we will need to establish authorization. In RSS, the admin account can simply create a new authorization key for any user. Google's API is considerably more secure and manages API authorization through the use of credentials that a user must download on the device that is being used to request API access. In other words, Google takes steps to ensure that it recognizes the user and the user's hardware before granting API access.\n",
        "\n",
        "We will walk through the process of downloading Google API credentials in the next lesson. To preview the process, you can read more about Google's access credentials here:\n",
        "https://developers.google.com/workspace/guides/create-credentials"
      ],
      "metadata": {
        "id": "vuDzh4rXvbqe"
      }
    },
    {
      "cell_type": "markdown",
      "source": [
        "## 3. StaffShare Network"
      ],
      "metadata": {
        "id": "-5ZaMeIgyiG3"
      }
    },
    {
      "cell_type": "markdown",
      "source": [
        "StaffShare Network is the component that I have the least technical knowledge of. I understand that it is its own network with available storage space that all MND workstations are equipped to access to upload and download documents. Ultimately, the StaffShare network boils down to a hardware asset rather than a software asset. I specialize in IT software and have little knowledge of the hardware that is utilized. \n",
        "\n",
        "Like Google Drive, StaffShare is accessible across the entire organization, yet it is extremely underutilized. Since utilizing the network to share client directories in Spring of 2021 only a handful of employees seem to be regularly accessing and utilizing the available tools. StaffShare seems to be hidden away in the workstation file explorer. The tool would no doubt be more regularly utilized if a shortcut icon was created on each team member’s desktop. \n",
        "While the StaffShare is both accessible and useful, it is only as secure as each individual workstation that has access to it. It only takes one team member’s workstation to compromise the entire network. Additionally, StaffShare removes encryption from uploaded documents, making security measures more difficult to ensure. \n",
        "\n",
        "Ultimately, StaffDrive is a better tool for file back up and storage than it is for file sharing. Programs cannot be written to automate the upload, download, or updating of documents stored there. Instead, refreshing reports in the StaffShare is a manual process for the Data Manager to undertake, and sharing information from that point requires team members to stay actively engaged and aware of changes.\n"
      ],
      "metadata": {
        "id": "JtrNkcaB1IEi"
      }
    },
    {
      "cell_type": "code",
      "source": [
        ""
      ],
      "metadata": {
        "id": "xPBWuvDsvatq"
      },
      "execution_count": null,
      "outputs": []
    },
    {
      "cell_type": "markdown",
      "source": [
        "## 4. Local Files"
      ],
      "metadata": {
        "id": "mrnMlcpl1yCC"
      }
    },
    {
      "cell_type": "markdown",
      "source": [
        "Local Files are the most problematic fragment of data in MND’s data infrastructure. Any data that team members store in local files rather than in a CRM, Cloud Drive, or Network Drive are accessible to that team member only. Exclusively local files are more likely to never join the aggregated database. Excel Sheets and word documents kept for personal reference and use can be shared via email. However, this opens data up to a myriad of different risks whether its security, outdated information being shared, or mistaken document  identity. The goal for any data focused organization is to eliminate the hoarding of local data and integrate all information on a cloud or shared drive network."
      ],
      "metadata": {
        "id": "7x0Y03PV15R5"
      }
    },
    {
      "cell_type": "code",
      "source": [
        ""
      ],
      "metadata": {
        "id": "i8FuE8_T14oa"
      },
      "execution_count": null,
      "outputs": []
    },
    {
      "cell_type": "markdown",
      "source": [
        "## Conclusion"
      ],
      "metadata": {
        "id": "5c25cJgu2PET"
      }
    },
    {
      "cell_type": "markdown",
      "source": [
        "Understanding these four components of MND’s data infrastructure is integral to understanding the role of the Data Manager. It takes this understanding to assess the methods of data entry, collection, manipulation, and distribution that occur in the following areas of the position’s overview. \n",
        "\n",
        "Additionally, having a comprehensive understanding of these four components is crucial to understanding how our Python program relates to our data inrstructure. In its current state our data collection and reporting program successfully automates access to half of these components. The goal in any programming focuesd position is to automate as many tasks as possible. The challenge for future development of our data infrastructure will be to promote the use of better tools in our organization and better data and file sharing practices among our staff."
      ],
      "metadata": {
        "id": "eNPzcTl32ShS"
      }
    },
    {
      "cell_type": "code",
      "source": [
        ""
      ],
      "metadata": {
        "id": "lwXQqnDD2Nfz"
      },
      "execution_count": null,
      "outputs": []
    }
  ]
}