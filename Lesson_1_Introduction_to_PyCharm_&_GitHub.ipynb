{
  "nbformat": 4,
  "nbformat_minor": 0,
  "metadata": {
    "colab": {
      "name": "Lesson 1: Introduction to PyCharm & GitHub",
      "provenance": [],
      "authorship_tag": "ABX9TyMiqPvFeyVyAyDnn9l+uSdJ",
      "include_colab_link": true
    },
    "kernelspec": {
      "name": "python3",
      "display_name": "Python 3"
    },
    "language_info": {
      "name": "python"
    }
  },
  "cells": [
    {
      "cell_type": "markdown",
      "metadata": {
        "id": "view-in-github",
        "colab_type": "text"
      },
      "source": [
        "<a href=\"https://colab.research.google.com/github/MDnewdirections/MND_Python_Training/blob/main/Lesson_1_Introduction_to_PyCharm_%26_GitHub.ipynb\" target=\"_parent\"><img src=\"https://colab.research.google.com/assets/colab-badge.svg\" alt=\"Open In Colab\"/></a>"
      ]
    },
    {
      "cell_type": "markdown",
      "source": [
        "# PyCharm & GitHub"
      ],
      "metadata": {
        "id": "0jkBZ77t325Z"
      }
    },
    {
      "cell_type": "markdown",
      "source": [
        "## What is PyCharm?"
      ],
      "metadata": {
        "id": "ktP9dFPh5Qdp"
      }
    },
    {
      "cell_type": "markdown",
      "source": [
        "PyCharm is an IDE (Integrated Development Environment) developed by JetBrains, a leading software vendor that caters to professional software and web development teams."
      ],
      "metadata": {
        "id": "JPR0SIYN5ohK"
      }
    },
    {
      "cell_type": "markdown",
      "source": [
        "**Integrated Development Environment (IDE) -** software for building applications that combines common developer tools into a single graphical user interface (GUI).\n",
        "\n",
        "Programmers and developers can write code in just about any virtual environment. Code can be written in a .txt file if the coder is knowledgable enough. However, just like a sentence in the english language, a line of code needs to by properly formatted and written with proper syntax in order to operate properly. IDE's provide coders with a smart writing environment that identifies keywords, automatically formats code with proper indentation, runs in depth analysis to identify errors and inefficiencies, and provides users with access to thousands of plugins to customize the software to their preferences.\n",
        "\n",
        "**Graphical User Interface (GUI) -**  uses windows, icons, and menus to carry out commands, such as opening, deleting, and moving files. Although a GUI operating system is primarily navigated using a mouse, a keyboard can also be used via keyboard shortcuts or the arrow keys"
      ],
      "metadata": {
        "id": "LowapRH76IYP"
      }
    },
    {
      "cell_type": "markdown",
      "source": [
        "## Why PyCharm?"
      ],
      "metadata": {
        "id": "gIkvdySa-yO_"
      }
    },
    {
      "cell_type": "markdown",
      "source": [
        "We are using PyCharm for a myriad of reasons, but most imporatantly, PyCharm is designed to be used by a team of developers working on shared projects.\n",
        "\n",
        "These shared projects can be made accessible to team members through the use of PyCharm's variety of Version Control System plugins.\n"
      ],
      "metadata": {
        "id": "kpCbpu6b_EX_"
      }
    },
    {
      "cell_type": "markdown",
      "source": [
        "**Version Control Systems (VCS) -** software tools that help software teams manage changes to source code over time.\n",
        "\n",
        "In other words, as a software project develops, it undergoes many changes. Some changes will undoubtedly be kept and others discarded. Most software development teams rigorously test each version of a project that they create before deciding whether some or all of the changes will be incorporated into the final product. Version Control Systems make it easy for the team to preserve their original project while freely testing new attributes.\n",
        "\n",
        "The version control system that we are using is called [Git](https://git-scm.com/). Git, is the most prolific version control system in the world of software and web development. It is so commonly utilized for team and open-source projects it inspired the creation of a social network site where development teams host their projects, [GitHub](https://github.com/). "
      ],
      "metadata": {
        "id": "u0qsB-jGCOTZ"
      }
    },
    {
      "cell_type": "markdown",
      "source": [
        "**Open-Source -** computer software that is released under a license in which the copyright holder grants users the rights to use, study, change, and distribute the software and its source code to anyone and for any purpose. Open-source software may be developed in a collaborative public manner.\n",
        "\n",
        "Open-Source tools are free (or at least have a free version) and can be customized by anyone to suit their needs. Some well known examples of Open-Source software are the Linux operating system and Mozilla FireFox internet browser."
      ],
      "metadata": {
        "id": "f0ixiVe5EfNQ"
      }
    },
    {
      "cell_type": "markdown",
      "source": [
        "### Code With Me"
      ],
      "metadata": {
        "id": "_B4EgJ8JHJ8M"
      }
    },
    {
      "cell_type": "markdown",
      "source": [
        "PyCharm has a feature called \"Code With Me\" which allows a user to invite another PyCharm user to work with them on a project in their local directory. The invited user can read, write, edit, and run code on the user's local files. We will be utilizing the Code With Me feature so that I can access our cloned Python project as it exists on your device and ensure that you are able to run the programs successfully. This feature will also prove extremely helpful should you ever encounter any errors while using PyCharm.\n",
        "\n",
        "Code With Me can be accessed via Tools>Code With Me or CTRL+SHIFT+Y\n",
        "\n",
        "At the end of this lesson we'll schedule a time this week to use Code With Me to get the MND_Data_Management Project running properly on your device/workstation."
      ],
      "metadata": {
        "id": "Rm9rg1ZeCLU-"
      }
    },
    {
      "cell_type": "markdown",
      "source": [
        "### GitHub"
      ],
      "metadata": {
        "id": "mxLad24gIJjs"
      }
    },
    {
      "cell_type": "markdown",
      "source": [
        "As mentioned above, GitHub is a social network dedicated to collaboration on software and web development projects.PyCharm makes it easy for us to clone a project hosted on Github. Once a project is cloned, users can push and pull changes made to the project to and from GitHub. It also allows users to easily create new project branches for developing and testing new project attributes.\n",
        "\n",
        "In the top-right corner of your PyCharm screen you should see \"Git: \" followed by a blue, bottom-left pointing arrow, a green check mark, and a green top-right pointing arrow.\n",
        "\n",
        "The blue bottom-left pointing arrow will \"Update\" the project you have open in PyCharm, meaning it will clone the project in its most up to date form as it is hosted on GitHub. \n",
        "\n",
        "The green check mark will \"Commit\" the changes that you have made in the project. When you Commit changes to the project they are permanent, this is why explore changes to our project by creating new branches rather than changing the original project files/structures.\n",
        "\n",
        "The green, top-right pointing arrow will \"Push\" the project to GitHub. When you Push to GitHub, only committed changes will be made to the project as it is hosted on GitHub. If you want to make permanent changes to the hosted project you must first commit all of the changes you would like to make.\n",
        "\n",
        "You can also make Commits and changes to the project and its structure in the project directly on GitHub.com. This isn't recommended, but if a change needs to be made and you are unsure of how to accomplish it via PyCharm, exploring MND's GitHub account is important.\n",
        "\n",
        "GitHub is more than just a great tool for software development teams, it is a great place to look at the projects that other people are working on. On GitHub you can observe and even save code that other developers and programmers have written. Go to GitHub.com and create your own account with your MND email.\n",
        "\n",
        "Once you have created your own GitHub account, authorize PyCharm to access your new account.\n",
        "\n",
        "In PyCharm go to File>Settings (CTRL+ALT+S) and select \"Version Control\"\n",
        "\n",
        "When contributing to MND's Data Managment project, be sure that you are Committing and Pushing those changes with your own GitHub account, this way we have clear record of what changes have been made and who has made them."
      ],
      "metadata": {
        "id": "U801nUA4IMF9"
      }
    },
    {
      "cell_type": "markdown",
      "source": [
        "#### Exercise: Branches"
      ],
      "metadata": {
        "id": "URwJMh1cplRS"
      }
    },
    {
      "cell_type": "markdown",
      "source": [
        "In the bottom-right corner of your PyCharm window you should see the words: \"MND_DataBase_Management\" next to the Branch symbol:\n",
        "![git_branch.png](data:image/png;base64,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)"
      ],
      "metadata": {
        "id": "IHj02Pfkpo_F"
      }
    },
    {
      "cell_type": "markdown",
      "source": [
        "When selected, a dropdown menu will appear. Select the \"+ New Branch\" option.\n",
        "\n",
        "Create a new branch named after yourself.\n",
        "\n",
        "Next, using the Push feature, Push the project with it's new branch to GitHub.\n",
        "\n",
        "While signed in to MND's GitHub account, you see all the different branches of our project that exist to ensure that you successfully created your new branch."
      ],
      "metadata": {
        "id": "M87QMuSNuM00"
      }
    },
    {
      "cell_type": "markdown",
      "source": [
        "## Project Structure"
      ],
      "metadata": {
        "id": "hQGUXwnwJANY"
      }
    },
    {
      "cell_type": "markdown",
      "source": [
        "With PyCharm open, let's disect the structure of the MND_Data_Management Project."
      ],
      "metadata": {
        "id": "3IhZAFo0JHqq"
      }
    },
    {
      "cell_type": "markdown",
      "source": [
        "**Note:**\n",
        "\n",
        "**Various File Types**\n",
        "\n",
        "\n",
        "*   .xlsx - Excel\n",
        "*   .py - Python\n",
        "*   .ipynb - Python Notebook (*like this document*)\n",
        "*   .csv - Comma Separated Value\n",
        "*   .json - (JavaScript Object Notation) is a lightweight data-interchange format. It is easy for humans to read and write and it is easy for machines to parse.\n",
        "\n"
      ],
      "metadata": {
        "id": "n7Wm38KGSHSR"
      }
    },
    {
      "cell_type": "markdown",
      "source": [
        "**Modules -** files with the “.py” extension containing Python code that can be imported inside another Python Program. In simple terms, we can consider a module to be the same as a code library or a file that contains a set of functions that you want to include in your application."
      ],
      "metadata": {
        "id": "G6DajkvIUInr"
      }
    },
    {
      "cell_type": "markdown",
      "source": [
        "### MND_Data_Management\n",
        "The main directory that hosts all elements of the program."
      ],
      "metadata": {
        "id": "T-gc0y82JSPK"
      }
    },
    {
      "cell_type": "markdown",
      "source": [
        "#### client_directories"
      ],
      "metadata": {
        "id": "Z_BxK0k2MI_o"
      }
    },
    {
      "cell_type": "markdown",
      "source": [
        "This directory contains all of the client directories that are produces by the organize_data() function in the *update_mnd_data.py* and *end_of_day.py* programs.."
      ],
      "metadata": {
        "id": "uNic7Xr_NqJj"
      }
    },
    {
      "cell_type": "markdown",
      "source": [
        "##### CH Client Directory 2.0.xlsx"
      ],
      "metadata": {
        "id": "HyfrD0pyM4yV"
      }
    },
    {
      "cell_type": "markdown",
      "source": [
        "##### Complete Client Directory 2.0.xlsx"
      ],
      "metadata": {
        "id": "cQ8fDGbPNBL8"
      }
    },
    {
      "cell_type": "markdown",
      "source": [
        "##### ML Client Directory 2.0.xlsx"
      ],
      "metadata": {
        "id": "K59GNMyANGCR"
      }
    },
    {
      "cell_type": "markdown",
      "source": [
        "##### RB Client Directory 2.0.xlsx"
      ],
      "metadata": {
        "id": "iz_Z-yV7NNJ6"
      }
    },
    {
      "cell_type": "markdown",
      "source": [
        "##### RV Client Directory 2.0.xlsx"
      ],
      "metadata": {
        "id": "uDUNbaS9NSxn"
      }
    },
    {
      "cell_type": "markdown",
      "source": [
        "##### SH Client Directory 2.0.xlsx"
      ],
      "metadata": {
        "id": "R8GVgMaRNX73"
      }
    },
    {
      "cell_type": "markdown",
      "source": [
        "#### exit_calls"
      ],
      "metadata": {
        "id": "01NGBWLLMNtb"
      }
    },
    {
      "cell_type": "markdown",
      "source": [
        "This directory will contain all of the Exit Call spreadsheets created for Nancy. There are currently none hosted here."
      ],
      "metadata": {
        "id": "sgpvxvFbN9od"
      }
    },
    {
      "cell_type": "markdown",
      "source": [
        "#### libraries_in_progress"
      ],
      "metadata": {
        "id": "MzZQ9FqCMRPp"
      }
    },
    {
      "cell_type": "markdown",
      "source": [
        "This directory contains all of the modules that I am currently developing and are not yet incorporated in the *update_mnd_data.py* or *end_of_day.py* programs."
      ],
      "metadata": {
        "id": "trkGJCQpOay4"
      }
    },
    {
      "cell_type": "markdown",
      "source": [
        "##### data_analysis_module.py"
      ],
      "metadata": {
        "id": "KqQ3ngM1RtlL"
      }
    },
    {
      "cell_type": "markdown",
      "source": [
        "*This module will serve as a collection of functions that accomplish routine data analysis requests.*"
      ],
      "metadata": {
        "id": "MfQ-VVsRRyrE"
      }
    },
    {
      "cell_type": "markdown",
      "source": [
        "##### data_analysis_testing.ipynb"
      ],
      "metadata": {
        "id": "zJjBDP2gTwJ-"
      }
    },
    {
      "cell_type": "markdown",
      "source": [
        "*This notebook is used to test code for potential additions to the data_analysis_module.py file.*"
      ],
      "metadata": {
        "id": "uaAlVWAKT2gc"
      }
    },
    {
      "cell_type": "markdown",
      "source": [
        "##### database.py"
      ],
      "metadata": {
        "id": "VfPUqdB5OWfU"
      }
    },
    {
      "cell_type": "markdown",
      "source": [
        "*This module will function to store all of MND's data in SQL database rather than .csv files. SQL databases are a better method of data storage for their accessibility to programming languages and security features.*"
      ],
      "metadata": {
        "id": "IDUViTakPhR1"
      }
    },
    {
      "cell_type": "markdown",
      "source": [
        "##### info_session_survey_module.py"
      ],
      "metadata": {
        "id": "1Zt2W-k8PkEi"
      }
    },
    {
      "cell_type": "markdown",
      "source": [
        "*This module will function to pull the email addresses of info session attendees and distribute an automated email prompting attendees to fill a survey to rate their satisfaction with MND's info session.*"
      ],
      "metadata": {
        "id": "jsNauJ28PqOE"
      }
    },
    {
      "cell_type": "markdown",
      "source": [
        "##### weekly_caseload_report_module.py"
      ],
      "metadata": {
        "id": "z2hEBbuRcNxo"
      }
    },
    {
      "cell_type": "markdown",
      "source": [
        "*This module will contain functions designed to design and distribute a report to each job coach. The report will provide a visual overview of their current caseload including active clients, clients pending enrollment, and clients due for retention updates.*"
      ],
      "metadata": {
        "id": "6Wx2JOnbcSWv"
      }
    },
    {
      "cell_type": "markdown",
      "source": [
        "#### processed_documents"
      ],
      "metadata": {
        "id": "Vn4wTavtMdG6"
      }
    },
    {
      "cell_type": "markdown",
      "source": [
        "This directory contains all of the documents downloaded from RSS in the process of running the *end_of_day.py* and *update_mnd_data* programs."
      ],
      "metadata": {
        "id": "pAqx3wW4P_bW"
      }
    },
    {
      "cell_type": "markdown",
      "source": [
        "#### rss_data"
      ],
      "metadata": {
        "id": "ha9nDbyBU0Co"
      }
    },
    {
      "cell_type": "markdown",
      "source": [
        "##### accounts.csv"
      ],
      "metadata": {
        "id": "_f48yDovU4Xo"
      }
    },
    {
      "cell_type": "markdown",
      "source": [
        "*This file stores all data collected from the accounts section of the Really Simple Systems API.*"
      ],
      "metadata": {
        "id": "5KwCTjvsU-hs"
      }
    },
    {
      "cell_type": "markdown",
      "source": [
        "##### activities.csv"
      ],
      "metadata": {
        "id": "gavOjvsFVH0p"
      }
    },
    {
      "cell_type": "markdown",
      "source": [
        "*This file stores all of the data collected from the activities section of the Really Simple Systems API.*"
      ],
      "metadata": {
        "id": "RYOqsq1CVKu2"
      }
    },
    {
      "cell_type": "markdown",
      "source": [
        "##### api_call_history.json"
      ],
      "metadata": {
        "id": "rejdP85jVSpf"
      }
    },
    {
      "cell_type": "markdown",
      "source": [
        "*This file contains data related to the date, time, and quantity of calls made to the Really Simple Systems API. This file is used in a limited capacity at the time being, but has potential for a wider array of data storage.*"
      ],
      "metadata": {
        "id": "KUujf_MsVYfq"
      }
    },
    {
      "cell_type": "markdown",
      "source": [
        "##### reporting_df.csv"
      ],
      "metadata": {
        "id": "-SZYrkhaVYNi"
      }
    },
    {
      "cell_type": "markdown",
      "source": [
        "*This file contains formatted data collected from the accounts.csv and activities.csv files. The data has been manipulated and run through dozens of different calculations to indentify data points of interest to MND operations. This file serves as the source of all MND reporting numbers.*"
      ],
      "metadata": {
        "id": "uL7-9Mt3WEIZ"
      }
    },
    {
      "cell_type": "markdown",
      "source": [
        "#### shared_libs"
      ],
      "metadata": {
        "id": "g-UeUgiIMiSB"
      }
    },
    {
      "cell_type": "markdown",
      "source": [
        "##### client_directories_module.py"
      ],
      "metadata": {
        "id": "qONSTqvNMmQe"
      }
    },
    {
      "cell_type": "markdown",
      "source": [
        "*This module contains functions designed to manipulate date pulled from RSS and distribute them to the client directory excel files stored in the 'client_directories' folder. In the event that a coach's client directory doesn't exist in the folder an new one will be created.*"
      ],
      "metadata": {
        "id": "juIvms5EQW3x"
      }
    },
    {
      "cell_type": "markdown",
      "source": [
        "##### daily_data_update_module.py"
      ],
      "metadata": {
        "id": "PfSKhTEXQ4ps"
      }
    },
    {
      "cell_type": "markdown",
      "source": [
        "*This module contains functions designed to distribute an automated email to all daily/weekly subscribers listed in Google Drive. The automated email contains an overview of the daily/weekly information recorded on RSS and Google Drive.*"
      ],
      "metadata": {
        "id": "3hl2TB-0RHHa"
      }
    },
    {
      "cell_type": "markdown",
      "source": [
        "##### data_collection_module.py"
      ],
      "metadata": {
        "id": "xgxr-tLsR80I"
      }
    },
    {
      "cell_type": "markdown",
      "source": [
        "*This module contains functions designed to request and collect data from an API. Once collected, the data is stored in .csv files in the rss_data directory.*"
      ],
      "metadata": {
        "id": "-ihB5PzcTGvU"
      }
    },
    {
      "cell_type": "markdown",
      "source": [
        "##### data_manipulation_module.py"
      ],
      "metadata": {
        "id": "Y8UpjjidWlqQ"
      }
    },
    {
      "cell_type": "markdown",
      "source": [
        "*This module contains functions designed to manipulate the data stored in the accounts.csv and activities.csv files. Data from those files are stored in dataframes and used in tandem to form an aggregated dataframe that features all the information MND needs to track for reporting purposes. This aggregated dataframe is then saved to the reporting_df.csv file in the rss_data directory.*"
      ],
      "metadata": {
        "id": "FsRU--XlXtTm"
      }
    },
    {
      "cell_type": "markdown",
      "source": [
        "##### fy_reports_module.py"
      ],
      "metadata": {
        "id": "bHX52L97YWbu"
      }
    },
    {
      "cell_type": "markdown",
      "source": [
        "*This module contains functions designed to create a .csv file containing data exclusive to each individual fiscal year since FY20. Potential extensions to this module are in development.*"
      ],
      "metadata": {
        "id": "Sdv3VpxmYarx"
      }
    },
    {
      "cell_type": "markdown",
      "source": [
        "##### google_module.py"
      ],
      "metadata": {
        "id": "X7liP1r2Y4nr"
      }
    },
    {
      "cell_type": "markdown",
      "source": [
        "*This module contains functions designed to automate data collection from the Google API. Potential extensions to this module are in development.*"
      ],
      "metadata": {
        "id": "WWqh2LbAY8va"
      }
    },
    {
      "cell_type": "markdown",
      "source": [
        "##### intake_module.py"
      ],
      "metadata": {
        "id": "iMyQutLoZHtJ"
      }
    },
    {
      "cell_type": "markdown",
      "source": [
        "*This module contains functions designed to download documents from the Really Simple Systems API, identify intake packets among the downloaded documents, pull data contained within intake documents, create a new client account for each intake, relocate all documents in the processed_documents directory, and delete all processed documents from RSS. Potential extensions to this module are in development.*"
      ],
      "metadata": {
        "id": "nRrg21QUZReR"
      }
    },
    {
      "cell_type": "markdown",
      "source": [
        "##### organize_data.py"
      ],
      "metadata": {
        "id": "6k-wQrozZKpv"
      }
    },
    {
      "cell_type": "markdown",
      "source": [
        "*This module contains a function that executes all the necessary functions to process all intakes and update all of MND's data files.*"
      ],
      "metadata": {
        "id": "si9hV9T9agLP"
      }
    },
    {
      "cell_type": "markdown",
      "source": [
        "##### settings_RSS.py"
      ],
      "metadata": {
        "id": "n-G3n-t0a-w1"
      }
    },
    {
      "cell_type": "markdown",
      "source": [
        "*This module contains a Class named Settings(). Settings() serves as an object that contains attributes relating to MND's data infrastructure, staff, fiscal vs federal year cycles, grants, API authorization and credentials, and more. Settings() keeps the operations of our program and the code of our modules simple. Settings() will continue to acquire new attributes as our program, staff, and organization grows and develops.*"
      ],
      "metadata": {
        "id": "8urD0yKebCYY"
      }
    },
    {
      "cell_type": "code",
      "source": [
        ""
      ],
      "metadata": {
        "id": "AJc1PXtMMgoO"
      },
      "execution_count": null,
      "outputs": []
    },
    {
      "cell_type": "markdown",
      "source": [
        "#### venv"
      ],
      "metadata": {
        "id": "Uh1Tfgb0c2NQ"
      }
    },
    {
      "cell_type": "markdown",
      "source": [
        "*This directory contains directories and files related to the virtual environment that PyCharm created for us to develop our project in. It's not particularly important that we understand how the virtual environment is structured, only that we know not to mess with the structure of the virtual environment that PyCharm has designed for us.*"
      ],
      "metadata": {
        "id": "uPEeJEp3c54h"
      }
    },
    {
      "cell_type": "markdown",
      "source": [
        "#### ytd_reports"
      ],
      "metadata": {
        "id": "pX0XfCtGdSwR"
      }
    },
    {
      "cell_type": "markdown",
      "source": [
        "*This directory contains Excel files containing data exclusive to each individual Fiscal Year starting with FY20. Thes files are created by our main programs, and a new Excel file for FY23 will be created the first time our program is run after July 1st 2022.*"
      ],
      "metadata": {
        "id": "VudSu38Mde03"
      }
    },
    {
      "cell_type": "markdown",
      "source": [
        "#### caseload_overview.html"
      ],
      "metadata": {
        "id": "HLmWpDTqeHna"
      }
    },
    {
      "cell_type": "markdown",
      "source": [
        "*This file is created by the weekly_caseload_module.py file in the libraries_in_progress directory. It is a web based file containing a visual report for coaches to monitor their caseload. This aspect of the project is still in development.*"
      ],
      "metadata": {
        "id": "X149DZTFeQov"
      }
    },
    {
      "cell_type": "markdown",
      "source": [
        "#### end_of_day_program.py"
      ],
      "metadata": {
        "id": "57CIw01tepH4"
      }
    },
    {
      "cell_type": "markdown",
      "source": [
        "*This program executes the organize_data() function, processing all uploaded intakes and refreshing all reports in the project. It also executes the functions stored in daily_data_update_module.py, distributing an automated email report to all staff. This program should only be run at the end of the business day.*"
      ],
      "metadata": {
        "id": "HzaMK11Pev2Q"
      }
    },
    {
      "cell_type": "markdown",
      "source": [
        "#### exit_call_program.py"
      ],
      "metadata": {
        "id": "bO0AmyWNfZrh"
      }
    },
    {
      "cell_type": "markdown",
      "source": [
        "*This program utilizes the reporting_df.csv file to generate a spreadsheet for Nancy to use for her the monthyl exit calls that she makes to clients approaching the end of their two year service window at MND.*"
      ],
      "metadata": {
        "id": "kkNdTeWdfgGj"
      }
    },
    {
      "cell_type": "markdown",
      "source": [
        "#### requirements.txt"
      ],
      "metadata": {
        "id": "eplcMWhUfx7s"
      }
    },
    {
      "cell_type": "markdown",
      "source": [
        "*This .txt file serves as a list of all the required plugins and libraries that a user will need to install in order to manage this projcet. Pycharm should automatically install plugins listed in this file and should automatically add new plugins to the file as new plugins are utilized in the project.*"
      ],
      "metadata": {
        "id": "GH7-hV1ef49F"
      }
    },
    {
      "cell_type": "markdown",
      "source": [
        "#### update_mnd_data.py"
      ],
      "metadata": {
        "id": "pxQ1qlLwgVVj"
      }
    },
    {
      "cell_type": "markdown",
      "source": [
        "*This program executes the organize_data() function, processing all intakes stored in RSS and updating all reports.*"
      ],
      "metadata": {
        "id": "YksbjWLVgbU0"
      }
    },
    {
      "cell_type": "markdown",
      "source": [
        "#### External Libraries"
      ],
      "metadata": {
        "id": "s6f55JRbgywX"
      }
    },
    {
      "cell_type": "markdown",
      "source": [
        "*This directory keeps track of all the external tools utilized in the project and the virtual environment that PyCharm created to host our project. PyCharm manages this directory on its own, so this directory is best left alone.*"
      ],
      "metadata": {
        "id": "p7waTG0_g11c"
      }
    },
    {
      "cell_type": "markdown",
      "source": [
        "#### Scratches and Consoles"
      ],
      "metadata": {
        "id": "EbHIiUGIhF1y"
      }
    },
    {
      "cell_type": "markdown",
      "source": [
        "*This directory contains information regarding your local SQL databases and your access to them. Utilizing database services is not available to PyCharm Community Edition users. This directory is best left alone.*"
      ],
      "metadata": {
        "id": "FrzJ71wchN8V"
      }
    }
  ]
}